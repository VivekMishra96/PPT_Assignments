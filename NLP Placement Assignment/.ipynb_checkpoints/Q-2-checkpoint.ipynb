{
 "cells": [
  {
   "cell_type": "markdown",
   "id": "13deb1ca",
   "metadata": {},
   "source": [
    "**Q-2**. Take any pdf and your task is to extract the text from that pdf and store it in a\n",
    "csv file and then you need to find the most repeated word in that pdf."
   ]
  },
  {
   "cell_type": "code",
   "execution_count": 1,
   "id": "0acd243e",
   "metadata": {},
   "outputs": [
    {
     "name": "stdout",
     "output_type": "stream",
     "text": [
      "Most repeated word: the\n"
     ]
    }
   ],
   "source": [
    "import PyPDF2\n",
    "import pandas as pd\n",
    "import collections\n",
    "\n",
    "# Open the PDF file\n",
    "pdf_file = open(\"Assignment Task .pdf\", \"rb\")\n",
    "\n",
    "# Create a PDF reader object\n",
    "pdf_reader = PyPDF2.PdfReader(pdf_file)\n",
    "\n",
    "# Create a list to store the extracted text\n",
    "text_list = []\n",
    "\n",
    "# Iterate over the pages in the PDF file\n",
    "for page_num in range(len(pdf_reader.pages)):\n",
    "    # Extract the text from the current page\n",
    "    page_text = pdf_reader.pages[page_num].extract_text()\n",
    "    \n",
    "    # Add the extracted text to the list\n",
    "    text_list.append(page_text)\n",
    "\n",
    "# Close the PDF file\n",
    "pdf_file.close()\n",
    "\n",
    "# Create a Pandas DataFrame to store the text\n",
    "df = pd.DataFrame({\"Text\": text_list})\n",
    "\n",
    "# Save the DataFrame to a CSV file\n",
    "df.to_csv(\"data.csv\", index=False)\n",
    "\n",
    "# Read the CSV file\n",
    "df = pd.read_csv(\"data.csv\")\n",
    "\n",
    "# Concatenate all the text from the CSV into a single string\n",
    "all_text = ' '.join(df[\"Text\"])\n",
    "\n",
    "# Tokenize the text into individual words\n",
    "words = all_text.split()\n",
    "\n",
    "# Create a Counter object to count the occurrences of each word\n",
    "word_counter = collections.Counter(words)\n",
    "\n",
    "# Get the most repeated word\n",
    "most_repeated_word = word_counter.most_common(1)[0][0]\n",
    "\n",
    "# Print the most repeated word\n",
    "print(\"Most repeated word:\", most_repeated_word)"
   ]
  },
  {
   "cell_type": "code",
   "execution_count": null,
   "id": "cf7e42f5",
   "metadata": {},
   "outputs": [],
   "source": []
  }
 ],
 "metadata": {
  "kernelspec": {
   "display_name": "Python 3 (ipykernel)",
   "language": "python",
   "name": "python3"
  },
  "language_info": {
   "codemirror_mode": {
    "name": "ipython",
    "version": 3
   },
   "file_extension": ".py",
   "mimetype": "text/x-python",
   "name": "python",
   "nbconvert_exporter": "python",
   "pygments_lexer": "ipython3",
   "version": "3.9.12"
  }
 },
 "nbformat": 4,
 "nbformat_minor": 5
}
