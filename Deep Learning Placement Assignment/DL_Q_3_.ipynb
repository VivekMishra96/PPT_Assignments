{
  "nbformat": 4,
  "nbformat_minor": 0,
  "metadata": {
    "colab": {
      "provenance": [],
      "gpuType": "T4"
    },
    "kernelspec": {
      "name": "python3",
      "display_name": "Python 3"
    },
    "language_info": {
      "name": "python"
    },
    "accelerator": "GPU",
    "gpuClass": "standard"
  },
  "cells": [
    {
      "cell_type": "markdown",
      "source": [
        "Question 3 -\n",
        "\n",
        "Train a Pure CNN with less than 10000 trainable parameters using the MNIST\n",
        "Dataset having minimum validation accuracy of 99.40%\n",
        "Note -\n",
        "1. Code comments should be given for proper code understanding.\n",
        "2. Implement in both PyTorch and Tensorflow respectively"
      ],
      "metadata": {
        "id": "sOMPi_lRpYw9"
      }
    },
    {
      "cell_type": "markdown",
      "source": [],
      "metadata": {
        "id": "e-8k-aC-pHwC"
      }
    },
    {
      "cell_type": "code",
      "source": [
        "import torch\n",
        "import torch.nn as nn\n",
        "import torch.optim as optim\n",
        "import torchvision\n",
        "import torchvision.transforms as transforms\n",
        "\n",
        "# Device configuration\n",
        "device = torch.device(\"cuda\" if torch.cuda.is_available() else \"cpu\")\n",
        "\n",
        "# Hyperparameters\n",
        "num_epochs = 10\n",
        "batch_size = 128\n",
        "learning_rate = 0.001\n",
        "\n",
        "# MNIST dataset\n",
        "transform = transforms.Compose([\n",
        "    transforms.ToTensor(),\n",
        "    transforms.Normalize((0.5,), (0.5,))\n",
        "])\n",
        "\n",
        "train_dataset = torchvision.datasets.MNIST(\n",
        "    root='./data', train=True, transform=transform, download=True\n",
        ")\n",
        "\n",
        "test_dataset = torchvision.datasets.MNIST(\n",
        "    root='./data', train=False, transform=transform, download=True\n",
        ")\n",
        "\n",
        "train_loader = torch.utils.data.DataLoader(\n",
        "    dataset=train_dataset, batch_size=batch_size, shuffle=True\n",
        ")\n",
        "\n",
        "test_loader = torch.utils.data.DataLoader(\n",
        "    dataset=test_dataset, batch_size=batch_size, shuffle=False\n",
        ")\n",
        "\n",
        "# Define the CNN model\n",
        "class PureCNN(nn.Module):\n",
        "    def __init__(self):\n",
        "        super(PureCNN, self).__init__()\n",
        "        self.conv1 = nn.Conv2d(1, 16, 3, 1, padding=1)\n",
        "        self.conv2 = nn.Conv2d(16, 32, 3, 1, padding=1)\n",
        "        self.fc1 = nn.Linear(32 * 7 * 7, 128)\n",
        "        self.fc2 = nn.Linear(128, 10)\n",
        "\n",
        "    def forward(self, x):\n",
        "        out = nn.functional.relu(self.conv1(x))\n",
        "        out = nn.functional.max_pool2d(out, 2)\n",
        "        out = nn.functional.relu(self.conv2(out))\n",
        "        out = nn.functional.max_pool2d(out, 2)\n",
        "        out = out.view(out.size(0), -1)\n",
        "        out = nn.functional.relu(self.fc1(out))\n",
        "        out = self.fc2(out)\n",
        "        return out\n",
        "\n",
        "# Instantiate the model\n",
        "model = PureCNN().to(device)\n",
        "\n",
        "# Loss function and optimizer\n",
        "criterion = nn.CrossEntropyLoss()\n",
        "optimizer = optim.Adam(model.parameters(), lr=learning_rate)\n",
        "\n",
        "# Train the model\n",
        "total_step = len(train_loader)\n",
        "for epoch in range(num_epochs):\n",
        "    for i, (images, labels) in enumerate(train_loader):\n",
        "        images = images.to(device)\n",
        "        labels = labels.to(device)\n",
        "\n",
        "        # Forward pass\n",
        "        outputs = model(images)\n",
        "        loss = criterion(outputs, labels)\n",
        "\n",
        "        # Backward and optimize\n",
        "        optimizer.zero_grad()\n",
        "        loss.backward()\n",
        "        optimizer.step()\n",
        "\n",
        "        if (i + 1) % 100 == 0:\n",
        "            print(f\"Epoch [{epoch + 1}/{num_epochs}], Step [{i + 1}/{total_step}], Loss: {loss.item():.4f}\")\n",
        "\n",
        "# Test the model\n",
        "model.eval()\n",
        "with torch.no_grad():\n",
        "    correct = 0\n",
        "    total = 0\n",
        "    for images, labels in test_loader:\n",
        "        images = images.to(device)\n",
        "        labels = labels.to(device)\n",
        "        outputs = model(images)\n",
        "        _, predicted = torch.max(outputs.data, 1)\n",
        "        total += labels.size(0)\n",
        "        correct += (predicted == labels).sum().item()\n",
        "\n",
        "    accuracy = 100 * correct / total\n",
        "    print(f\"Test Accuracy: {accuracy:.2f}%\")"
      ],
      "metadata": {
        "colab": {
          "base_uri": "https://localhost:8080/"
        },
        "id": "FMgDptVQpNYH",
        "outputId": "ad9dcd4f-f51a-4be4-991c-de28069acd2b"
      },
      "execution_count": null,
      "outputs": [
        {
          "output_type": "stream",
          "name": "stdout",
          "text": [
            "Downloading http://yann.lecun.com/exdb/mnist/train-images-idx3-ubyte.gz\n",
            "Downloading http://yann.lecun.com/exdb/mnist/train-images-idx3-ubyte.gz to ./data/MNIST/raw/train-images-idx3-ubyte.gz\n"
          ]
        },
        {
          "output_type": "stream",
          "name": "stderr",
          "text": [
            "100%|██████████| 9912422/9912422 [00:00<00:00, 90979677.89it/s]\n"
          ]
        },
        {
          "output_type": "stream",
          "name": "stdout",
          "text": [
            "Extracting ./data/MNIST/raw/train-images-idx3-ubyte.gz to ./data/MNIST/raw\n",
            "\n",
            "Downloading http://yann.lecun.com/exdb/mnist/train-labels-idx1-ubyte.gz\n",
            "Downloading http://yann.lecun.com/exdb/mnist/train-labels-idx1-ubyte.gz to ./data/MNIST/raw/train-labels-idx1-ubyte.gz\n"
          ]
        },
        {
          "output_type": "stream",
          "name": "stderr",
          "text": [
            "100%|██████████| 28881/28881 [00:00<00:00, 21129547.15it/s]\n"
          ]
        },
        {
          "output_type": "stream",
          "name": "stdout",
          "text": [
            "Extracting ./data/MNIST/raw/train-labels-idx1-ubyte.gz to ./data/MNIST/raw\n",
            "\n",
            "Downloading http://yann.lecun.com/exdb/mnist/t10k-images-idx3-ubyte.gz\n",
            "Downloading http://yann.lecun.com/exdb/mnist/t10k-images-idx3-ubyte.gz to ./data/MNIST/raw/t10k-images-idx3-ubyte.gz\n"
          ]
        },
        {
          "output_type": "stream",
          "name": "stderr",
          "text": [
            "100%|██████████| 1648877/1648877 [00:00<00:00, 26267799.78it/s]\n"
          ]
        },
        {
          "output_type": "stream",
          "name": "stdout",
          "text": [
            "Extracting ./data/MNIST/raw/t10k-images-idx3-ubyte.gz to ./data/MNIST/raw\n",
            "\n",
            "Downloading http://yann.lecun.com/exdb/mnist/t10k-labels-idx1-ubyte.gz\n",
            "Downloading http://yann.lecun.com/exdb/mnist/t10k-labels-idx1-ubyte.gz to ./data/MNIST/raw/t10k-labels-idx1-ubyte.gz\n"
          ]
        },
        {
          "output_type": "stream",
          "name": "stderr",
          "text": [
            "100%|██████████| 4542/4542 [00:00<00:00, 21285507.00it/s]\n"
          ]
        },
        {
          "output_type": "stream",
          "name": "stdout",
          "text": [
            "Extracting ./data/MNIST/raw/t10k-labels-idx1-ubyte.gz to ./data/MNIST/raw\n",
            "\n",
            "Epoch [1/10], Step [100/469], Loss: 0.3635\n",
            "Epoch [1/10], Step [200/469], Loss: 0.1496\n",
            "Epoch [1/10], Step [300/469], Loss: 0.1418\n",
            "Epoch [1/10], Step [400/469], Loss: 0.0718\n",
            "Epoch [2/10], Step [100/469], Loss: 0.0756\n",
            "Epoch [2/10], Step [200/469], Loss: 0.0291\n",
            "Epoch [2/10], Step [300/469], Loss: 0.0778\n",
            "Epoch [2/10], Step [400/469], Loss: 0.0915\n",
            "Epoch [3/10], Step [100/469], Loss: 0.0221\n",
            "Epoch [3/10], Step [200/469], Loss: 0.0482\n",
            "Epoch [3/10], Step [300/469], Loss: 0.0562\n",
            "Epoch [3/10], Step [400/469], Loss: 0.0436\n",
            "Epoch [4/10], Step [100/469], Loss: 0.0197\n",
            "Epoch [4/10], Step [200/469], Loss: 0.0200\n",
            "Epoch [4/10], Step [300/469], Loss: 0.0188\n",
            "Epoch [4/10], Step [400/469], Loss: 0.0216\n",
            "Epoch [5/10], Step [100/469], Loss: 0.0072\n",
            "Epoch [5/10], Step [200/469], Loss: 0.0835\n",
            "Epoch [5/10], Step [300/469], Loss: 0.0224\n",
            "Epoch [5/10], Step [400/469], Loss: 0.0899\n",
            "Epoch [6/10], Step [100/469], Loss: 0.0054\n",
            "Epoch [6/10], Step [200/469], Loss: 0.0582\n",
            "Epoch [6/10], Step [300/469], Loss: 0.0033\n",
            "Epoch [6/10], Step [400/469], Loss: 0.0601\n",
            "Epoch [7/10], Step [100/469], Loss: 0.0522\n",
            "Epoch [7/10], Step [200/469], Loss: 0.0120\n",
            "Epoch [7/10], Step [300/469], Loss: 0.0093\n",
            "Epoch [7/10], Step [400/469], Loss: 0.0132\n",
            "Epoch [8/10], Step [100/469], Loss: 0.0081\n",
            "Epoch [8/10], Step [200/469], Loss: 0.0135\n",
            "Epoch [8/10], Step [300/469], Loss: 0.0066\n",
            "Epoch [8/10], Step [400/469], Loss: 0.0092\n",
            "Epoch [9/10], Step [100/469], Loss: 0.0179\n",
            "Epoch [9/10], Step [200/469], Loss: 0.0143\n",
            "Epoch [9/10], Step [300/469], Loss: 0.0118\n",
            "Epoch [9/10], Step [400/469], Loss: 0.0101\n",
            "Epoch [10/10], Step [100/469], Loss: 0.0068\n",
            "Epoch [10/10], Step [200/469], Loss: 0.0426\n",
            "Epoch [10/10], Step [300/469], Loss: 0.0108\n",
            "Epoch [10/10], Step [400/469], Loss: 0.0022\n",
            "Test Accuracy: 99.02%\n"
          ]
        }
      ]
    },
    {
      "cell_type": "markdown",
      "source": [
        "Answer-b"
      ],
      "metadata": {
        "id": "zs_6d610rRc1"
      }
    },
    {
      "cell_type": "code",
      "source": [
        "import tensorflow as tf\n",
        "from tensorflow.keras import layers\n",
        "from tensorflow.keras.datasets import mnist\n",
        "\n",
        "# Hyperparameters\n",
        "num_epochs = 10\n",
        "batch_size = 128\n",
        "learning_rate = 0.001\n",
        "\n",
        "# Load and preprocess the MNIST dataset\n",
        "(x_train, y_train), (x_test, y_test) = mnist.load_data()\n",
        "x_train = x_train.reshape(-1, 28, 28, 1).astype(\"float32\") / 255.0\n",
        "x_test = x_test.reshape(-1, 28, 28, 1).astype(\"float32\") / 255.0\n",
        "\n",
        "# Define the CNN model\n",
        "model = tf.keras.Sequential([\n",
        "    layers.Conv2D(16, 3, activation=\"relu\", input_shape=(28, 28, 1)),\n",
        "    layers.MaxPooling2D(2),\n",
        "    layers.Conv2D(32, 3, activation=\"relu\"),\n",
        "    layers.MaxPooling2D(2),\n",
        "    layers.Flatten(),\n",
        "    layers.Dense(128, activation=\"relu\"),\n",
        "    layers.Dense(10),\n",
        "])\n",
        "\n",
        "# Compile the model\n",
        "model.compile(\n",
        "    optimizer=tf.keras.optimizers.Adam(learning_rate),\n",
        "    loss=tf.keras.losses.SparseCategoricalCrossentropy(from_logits=True),\n",
        "    metrics=[\"accuracy\"],\n",
        ")\n",
        "\n",
        "# Train the model\n",
        "model.fit(x_train, y_train, batch_size=batch_size, epochs=num_epochs, verbose=1)\n",
        "\n",
        "# Evaluate the model\n",
        "test_loss, test_accuracy = model.evaluate(x_test, y_test, verbose=0)\n",
        "print(f\"Test Accuracy: {test_accuracy * 100:.2f}%\")"
      ],
      "metadata": {
        "colab": {
          "base_uri": "https://localhost:8080/"
        },
        "id": "-n2_8gUIrTCB",
        "outputId": "a7e85610-383c-43c7-ef78-720fe354379c"
      },
      "execution_count": null,
      "outputs": [
        {
          "output_type": "stream",
          "name": "stdout",
          "text": [
            "Downloading data from https://storage.googleapis.com/tensorflow/tf-keras-datasets/mnist.npz\n",
            "11490434/11490434 [==============================] - 0s 0us/step\n",
            "Epoch 1/10\n",
            "469/469 [==============================] - 5s 4ms/step - loss: 0.2891 - accuracy: 0.9180\n",
            "Epoch 2/10\n",
            "469/469 [==============================] - 2s 4ms/step - loss: 0.0671 - accuracy: 0.9796\n",
            "Epoch 3/10\n",
            "469/469 [==============================] - 2s 4ms/step - loss: 0.0462 - accuracy: 0.9856\n",
            "Epoch 4/10\n",
            "469/469 [==============================] - 2s 5ms/step - loss: 0.0364 - accuracy: 0.9888\n",
            "Epoch 5/10\n",
            "469/469 [==============================] - 2s 4ms/step - loss: 0.0284 - accuracy: 0.9911\n",
            "Epoch 6/10\n",
            "469/469 [==============================] - 2s 4ms/step - loss: 0.0246 - accuracy: 0.9924\n",
            "Epoch 7/10\n",
            "469/469 [==============================] - 2s 4ms/step - loss: 0.0195 - accuracy: 0.9939\n",
            "Epoch 8/10\n",
            "469/469 [==============================] - 2s 4ms/step - loss: 0.0168 - accuracy: 0.9946\n",
            "Epoch 9/10\n",
            "469/469 [==============================] - 2s 4ms/step - loss: 0.0144 - accuracy: 0.9954\n",
            "Epoch 10/10\n",
            "469/469 [==============================] - 2s 4ms/step - loss: 0.0118 - accuracy: 0.9964\n",
            "Test Accuracy: 99.14%\n"
          ]
        }
      ]
    },
    {
      "cell_type": "code",
      "source": [],
      "metadata": {
        "id": "9QaSoVebrU2o"
      },
      "execution_count": null,
      "outputs": []
    }
  ]
}