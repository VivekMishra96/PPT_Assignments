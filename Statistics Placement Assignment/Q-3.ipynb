{
 "cells": [
  {
   "cell_type": "markdown",
   "id": "6db9bcf9",
   "metadata": {},
   "source": [
    "**Q - 3**  Consider the ‘Blood Pressure Before’ and ‘Blood Pressure After’ columns from the data and calculate the following\n",
    "\n",
    "https://drive.google.com/file/d/1mCjtYHiX--mMUjicuaP2gH3k-SnFxt8Y/view?usp=share_ a. Measure the dispersion in both and interpret the results. b. Calculate mean and 5% confidence interval and plot it in a graph c. Calculate the Mean absolute deviation and Standard deviation and interpret the results. d. Calculate the correlation coefficient and check the significance"
   ]
  },
  {
   "cell_type": "code",
   "execution_count": 12,
   "id": "a417f577",
   "metadata": {},
   "outputs": [
    {
     "name": "stdout",
     "output_type": "stream",
     "text": [
      "   Patient ID   Blood Pressure Before (mmHg)   Blood Pressure After (mmHg)\n",
      "0           1                            130                           120\n",
      "1           2                            142                           135\n",
      "2           3                            120                           118\n",
      "3           4                            135                           127\n",
      "4           5                            148                           140\n",
      "Index(['Patient ID', ' Blood Pressure Before (mmHg)',\n",
      "       ' Blood Pressure After (mmHg)'],\n",
      "      dtype='object')\n"
     ]
    }
   ],
   "source": [
    "import pandas as pd\n",
    "import numpy as np\n",
    "import matplotlib.pyplot as plt\n",
    "\n",
    "# Read the dataset from the provided link\n",
    "data = pd.read_csv('https://drive.google.com/uc?export=download&id=1mCjtYHiX--mMUjicuaP2gH3k-SnFxt8Y')\n",
    "print(data.head())\n",
    "print(data.columns)"
   ]
  },
  {
   "cell_type": "code",
   "execution_count": 21,
   "id": "f76ed1a6",
   "metadata": {},
   "outputs": [],
   "source": [
    "# Remove leading and trailing spaces from column names\n",
    "data.columns = data.columns.str.strip()\n",
    "# Extract the 'Blood Pressure Before' and 'Blood Pressure After' columns\n",
    "bp_before = data['Blood Pressure Before (mmHg)']\n",
    "bp_after = data['Blood Pressure After (mmHg)']"
   ]
  },
  {
   "cell_type": "code",
   "execution_count": 28,
   "id": "bac0f702",
   "metadata": {},
   "outputs": [
    {
     "name": "stdout",
     "output_type": "stream",
     "text": [
      "28\n",
      "23\n"
     ]
    }
   ],
   "source": [
    "# Calculate the range\n",
    "range_before = np.max(bp_before) - np.min(bp_before)\n",
    "range_after = np.max(bp_after) - np.min(bp_after)\n",
    "print(range_before)\n",
    "print(range_after)"
   ]
  },
  {
   "cell_type": "code",
   "execution_count": 31,
   "id": "916c44f1",
   "metadata": {},
   "outputs": [
    {
     "name": "stdout",
     "output_type": "stream",
     "text": [
      "before 43.10189999999998\n",
      "after 46.97040000000002\n",
      "6.5652037287505385\n",
      "6.853495458523338\n"
     ]
    }
   ],
   "source": [
    "# Calculate the variance\n",
    "variance_before = np.var(bp_before)\n",
    "variance_after = np.var(bp_after)\n",
    "print(\"before\", variance_before)\n",
    "print(\"after\", variance_after)\n",
    "# Calculate the standard deviation\n",
    "std_dev_before = np.std(bp_before)\n",
    "std_dev_after = np.std(bp_after)\n",
    "print(std_dev_before)\n",
    "print(std_dev_after)"
   ]
  },
  {
   "cell_type": "code",
   "execution_count": 34,
   "id": "5e4eefd2",
   "metadata": {},
   "outputs": [
    {
     "name": "stdout",
     "output_type": "stream",
     "text": [
      "Dispersion measures for 'Blood Pressure Before':\n",
      "Range: 28.00\n",
      "Variance: 43.10\n",
      "Standard Deviation: 6.57\n",
      "\n",
      "Dispersion measures for 'Blood Pressure After':\n",
      "Range: 23.00\n",
      "Variance: 46.97\n",
      "Standard Deviation: 6.85\n"
     ]
    }
   ],
   "source": [
    "# Interpret the results\n",
    "print(f\"Dispersion measures for 'Blood Pressure Before':\")\n",
    "print(f\"Range: {range_before:.2f}\")\n",
    "print(f\"Variance: {variance_before:.2f}\")\n",
    "print(f\"Standard Deviation: {std_dev_before:.2f}\")\n",
    "print()\n",
    "print(f\"Dispersion measures for 'Blood Pressure After':\")\n",
    "print(f\"Range: {range_after:.2f}\")\n",
    "print(f\"Variance: {variance_after:.2f}\")\n",
    "print(f\"Standard Deviation: {std_dev_after:.2f}\")"
   ]
  },
  {
   "cell_type": "code",
   "execution_count": 38,
   "id": "b51def8e",
   "metadata": {},
   "outputs": [
    {
     "name": "stdout",
     "output_type": "stream",
     "text": [
      "Mean of 'Blood Pressure Before': 133.91\n",
      "Confidence Interval (5%): (132.6232200691649, 135.1967799308351)\n"
     ]
    },
    {
     "data": {
      "image/png": "[encoded data removed]",
      "text/plain": [
       "<Figure size 576x432 with 1 Axes>"
      ]
     },
     "metadata": {
      "needs_background": "light"
     },
     "output_type": "display_data"
    }
   ],
   "source": [
    "#b\n",
    "# Calculate the mean\n",
    "mean_before = np.mean(bp_before)\n",
    "\n",
    "# Calculate the standard error of the mean\n",
    "sem_before = np.std(bp_before) / np.sqrt(len(bp_before))\n",
    "\n",
    "# Calculate the margin of error for 5% confidence interval\n",
    "margin_of_error = 1.96 * sem_before\n",
    "\n",
    "# Calculate the confidence interval\n",
    "confidence_interval = (mean_before - margin_of_error, mean_before + margin_of_error)\n",
    "\n",
    "# Print the mean and confidence interval\n",
    "print(\"Mean of 'Blood Pressure Before':\", mean_before)\n",
    "print(\"Confidence Interval (5%):\", confidence_interval)\n",
    "\n",
    "# Plot the data\n",
    "plt.figure(figsize=(8, 6))\n",
    "plt.hist(bp_before, bins=20, color='navy', edgecolor='black')\n",
    "plt.axvline(mean_before, color='red', linestyle='--', label='Mean')\n",
    "plt.axvline(confidence_interval[0], color='green', linestyle='--', label='Lower CI (5%)')\n",
    "plt.axvline(confidence_interval[1], color='green', linestyle='--', label='Upper CI (5%)')\n",
    "plt.xlabel('Blood Pressure Before (mmHg)')\n",
    "plt.ylabel('Frequency')\n",
    "plt.title('Distribution of Blood Pressure Before')\n",
    "plt.legend()\n",
    "plt.show()"
   ]
  },
  {
   "cell_type": "code",
   "execution_count": 40,
   "id": "6da1392c",
   "metadata": {},
   "outputs": [
    {
     "name": "stdout",
     "output_type": "stream",
     "text": [
      "Mean Absolute Deviation of 'Blood Pressure Before': 5.7118\n",
      "Standard Deviation of 'Blood Pressure Before': 6.598278012275075\n"
     ]
    }
   ],
   "source": [
    "# Calculate the mean absolute deviation (MAD)\n",
    "mad_before = np.mean(np.abs(bp_before - np.mean(bp_before)))\n",
    "\n",
    "# Calculate the standard deviation (SD)\n",
    "sd_before = np.std(bp_before, ddof=1)\n",
    "\n",
    "# Interpret the results\n",
    "print(\"Mean Absolute Deviation of 'Blood Pressure Before':\", mad_before)\n",
    "print(\"Standard Deviation of 'Blood Pressure Before':\", sd_before)"
   ]
  },
  {
   "cell_type": "code",
   "execution_count": 44,
   "id": "879a1392",
   "metadata": {},
   "outputs": [
    {
     "name": "stdout",
     "output_type": "stream",
     "text": [
      "Correlation Coefficient: 0.9779485966556027\n",
      "Significance at 1% level: significant\n"
     ]
    }
   ],
   "source": [
    "from scipy.stats import pearsonr\n",
    "# Calculate the correlation coefficient\n",
    "corr_coef, p_value = pearsonr(bp_before, bp_after)\n",
    "\n",
    "# Interpret the correlation coefficient\n",
    "if p_value < 0.01:\n",
    "    significance = \"significant\"\n",
    "else:\n",
    "    significance = \"not significant\"\n",
    "\n",
    "print(\"Correlation Coefficient:\", corr_coef)\n",
    "print(\"Significance at 1% level:\", significance)"
   ]
  }
 ],
 "metadata": {
  "kernelspec": {
   "display_name": "Python 3 (ipykernel)",
   "language": "python",
   "name": "python3"
  },
  "language_info": {
   "codemirror_mode": {
    "name": "ipython",
    "version": 3
   },
   "file_extension": ".py",
   "mimetype": "text/x-python",
   "name": "python",
   "nbconvert_exporter": "python",
   "pygments_lexer": "ipython3",
   "version": "3.9.12"
  }
 },
 "nbformat": 4,
 "nbformat_minor": 5
}
