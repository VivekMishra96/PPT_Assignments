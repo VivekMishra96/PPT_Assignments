{
 "cells": [
  {
   "cell_type": "markdown",
   "id": "7bbd5bbb",
   "metadata": {},
   "source": [
    "**Q-8**. The anxiety levels of 10 participants were measured before and after a new therapy.\n",
    "The scores are not normally distributed. Use the Wilcoxon signed-rank test to test whether\n",
    "the therapy had a significant effect on anxiety levels. The data is given below: Participant\n",
    "Before therapy After therapy Difference"
   ]
  },
  {
   "cell_type": "code",
   "execution_count": 7,
   "id": "a02c657b",
   "metadata": {},
   "outputs": [
    {
     "name": "stdout",
     "output_type": "stream",
     "text": [
      "Wilcoxon signed-rank test:\n",
      "Statistic: 0.0\n",
      "p-value: 0.001953125\n",
      "The therapy had a significant effect on anxiety levels.\n"
     ]
    }
   ],
   "source": [
    "from scipy.stats import wilcoxon\n",
    "\n",
    "# Data\n",
    "before_therapy = [10, 8, 12, 15, 6, 9, 11, 7, 14, 10]\n",
    "after_therapy = [7, 6, 10, 12, 5, 8, 9, 6, 12, 8]\n",
    "\n",
    "# Wilcoxon signed-rank test\n",
    "statistic, p_value = wilcoxon(before_therapy, after_therapy)\n",
    "\n",
    "# Print results\n",
    "print(\"Wilcoxon signed-rank test:\")\n",
    "print(\"Statistic:\", statistic)\n",
    "print(\"p-value:\", p_value)\n",
    "\n",
    "if p_value < 0.05:\n",
    "    print(\"The therapy had a significant effect on anxiety levels.\")\n",
    "else:\n",
    "    print(\"The therapy did not have a significant effect on anxiety levels.\")\n"
   ]
  },
  {
   "cell_type": "code",
   "execution_count": null,
   "id": "ce178b0b",
   "metadata": {},
   "outputs": [],
   "source": []
  }
 ],
 "metadata": {
  "kernelspec": {
   "display_name": "Python 3 (ipykernel)",
   "language": "python",
   "name": "python3"
  },
  "language_info": {
   "codemirror_mode": {
    "name": "ipython",
    "version": 3
   },
   "file_extension": ".py",
   "mimetype": "text/x-python",
   "name": "python",
   "nbconvert_exporter": "python",
   "pygments_lexer": "ipython3",
   "version": "3.9.12"
  }
 },
 "nbformat": 4,
 "nbformat_minor": 5
}
