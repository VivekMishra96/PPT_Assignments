{
 "cells": [
  {
   "cell_type": "markdown",
   "id": "e5f416ce",
   "metadata": {},
   "source": [
    "**Q-1**. A university wants to understand the relationship between the SAT scores of its applicants and their college GPA. They collect data on 500 students, including their SAT scores (out of 1600) and their college GPA (on a 4.0 scale). They find that the correlation coefficient between SAT scores and college GPA is 0.7. What does this correlation coefficient indicate about the relationship between SAT scores and college GPA?"
   ]
  },
  {
   "cell_type": "markdown",
   "id": "05860e66",
   "metadata": {},
   "source": [
    "**ANS**: \n",
    "A correlation coefficient of 0.7 indicates a strong positive relationship between SAT scores and college GPA. The correlation coefficient ranges from -1 to 1, with 0 indicating no correlation, -1 indicating a perfect negative correlation (as one variable increases, the other decreases), and 1 indicating a perfect positive correlation (as one variable increases, the other also increases). In this case, the correlation coefficient of 0.7 suggests a strong positive relationship, meaning that as SAT scores increase, college GPA tends to increase as well. The closer the correlation coefficient is to 1, the stronger the relationship between the two variables."
   ]
  }
 ],
 "metadata": {
  "kernelspec": {
   "display_name": "Python 3 (ipykernel)",
   "language": "python",
   "name": "python3"
  },
  "language_info": {
   "codemirror_mode": {
    "name": "ipython",
    "version": 3
   },
   "file_extension": ".py",
   "mimetype": "text/x-python",
   "name": "python",
   "nbconvert_exporter": "python",
   "pygments_lexer": "ipython3",
   "version": "3.9.12"
  }
 },
 "nbformat": 4,
 "nbformat_minor": 5
}
