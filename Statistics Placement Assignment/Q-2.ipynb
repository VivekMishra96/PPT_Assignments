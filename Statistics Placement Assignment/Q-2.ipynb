{
 "cells": [
  {
   "cell_type": "markdown",
   "id": "6663be6d",
   "metadata": {},
   "source": [
    "**Q-2**. Consider a dataset containing the heights (in centimeters) of 1000 individuals. The mean height is 170 cm with a standard deviation of 10 cm. The dataset is approximately normally distributed, and its skewness is approximately zero. Based on this information, answer the following questions:\n",
    "\n",
    "a. What percentage of individuals in the dataset have heights between 160 cm and 180 cm?\n",
    "\n",
    "b. If we randomly select 100 individuals from the dataset, what is the probability that their average height is greater than 175 cm? \n",
    "\n",
    "c. Assuming the dataset follows a normal distribution, what is the z-score corresponding to a height of 185 cm?\n",
    "\n",
    "d. We know that 5% of the dataset has heights below a certain value. What is the approximate height corresponding to this threshold? \n",
    "\n",
    "e. Calculate the coefficient of variation (CV) for the dataset.\n",
    "\n",
    "f. Calculate the skewness of the dataset and interpret the result."
   ]
  },
  {
   "cell_type": "markdown",
   "id": "9f938b1d",
   "metadata": {},
   "source": [
    "**Answer - a**"
   ]
  },
  {
   "cell_type": "code",
   "execution_count": 7,
   "id": "cdabfbca",
   "metadata": {},
   "outputs": [
    {
     "name": "stdout",
     "output_type": "stream",
     "text": [
      "The percentage of individuals with heights between 160 cm and 180 cm is: 68.27%\n"
     ]
    }
   ],
   "source": [
    "import scipy.stats as stats\n",
    "\n",
    "mean_height = 170\n",
    "std_dev = 10\n",
    "\n",
    "lower_bound = 160\n",
    "upper_bound = 180\n",
    "\n",
    "# Calculate the z-scores\n",
    "z1 = (lower_bound - mean_height) / std_dev\n",
    "z2 = (upper_bound - mean_height) / std_dev\n",
    "\n",
    "# Calculate the percentage using the cumulative distribution function (CDF)\n",
    "percentage = stats.norm.cdf(z2) - stats.norm.cdf(z1)\n",
    "\n",
    "# Convert to percentage\n",
    "percentage *= 100\n",
    "\n",
    "print(f\"The percentage of individuals with heights between 160 cm and 180 cm is: {percentage:.2f}%\")\n"
   ]
  },
  {
   "cell_type": "markdown",
   "id": "575e48d5",
   "metadata": {},
   "source": [
    "To calculate the percentage of individuals in the dataset with heights between 160 cm and 180 cm, we need to use the concept of the standard normal distribution.\n",
    "\n",
    "Given that the dataset is approximately normally distributed and we know the mean height is 170 cm with a standard deviation of 10 cm, we can convert the heights to a standard normal distribution using the formula:\n",
    "\n",
    "Z = (X - μ) / σ\n",
    "\n",
    "Where: Z is the standard score (z-score) X is the individual height μ is the mean height σ is the standard deviation\n",
    "\n",
    "First, we calculate the z-scores for the lower and upper bounds:\n",
    "\n",
    "Z1 = (160 - 170) / 10 = -1 Z2 = (180 - 170) / 10 = 1\n",
    "\n",
    "Next, we find the area under the standard normal distribution curve between these z-scores, which represents the percentage of individuals within that range.\n",
    "\n",
    "Using a standard normal distribution table or a statistical software, we can find the corresponding area between -1 and 1. This area represents the percentage of individuals with heights between 160 cm and 180 cm.\n",
    "\n",
    "The area between -1 and 1 is approximately 0.6827 or 68.27%.\n",
    "\n",
    "Therefore, approximately 68.27% of individuals in the dataset have heights between 160 cm and 180 cm."
   ]
  },
  {
   "cell_type": "markdown",
   "id": "2d2c4138",
   "metadata": {},
   "source": [
    "**Answer - b**"
   ]
  },
  {
   "cell_type": "code",
   "execution_count": 8,
   "id": "1946d235",
   "metadata": {},
   "outputs": [
    {
     "name": "stdout",
     "output_type": "stream",
     "text": [
      "The probability that the average height of a randomly selected group of 100 individuals is greater than 175 cm is: 0.0000\n"
     ]
    }
   ],
   "source": [
    "import scipy.stats as stats\n",
    "\n",
    "mean_height = 170\n",
    "std_dev = 10\n",
    "sample_size = 100\n",
    "average_height = 175\n",
    "\n",
    "# Calculate the standard deviation of the sample means\n",
    "std_dev_sample_means = std_dev / (sample_size ** 0.5)\n",
    "\n",
    "# Calculate the z-score\n",
    "z = (average_height - mean_height) / std_dev_sample_means\n",
    "\n",
    "# Calculate the probability using the standard normal distribution\n",
    "probability = 1 - stats.norm.cdf(z)\n",
    "\n",
    "print(f\"The probability that the average height of a randomly selected group of 100 individuals is greater than 175 cm is: {probability:.4f}\")\n"
   ]
  },
  {
   "cell_type": "markdown",
   "id": "3789de6c",
   "metadata": {},
   "source": [
    "To calculate the probability that the average height of a randomly selected group of 100 individuals from the dataset is greater than 175 cm, we can use the Central Limit Theorem. According to the Central Limit Theorem, the distribution of sample means approaches a normal distribution as the sample size increases, regardless of the shape of the original population distribution.\n",
    "\n",
    "Mathematically, we can calculate the z-score for the given average height and sample size, and then use the standard normal distribution to find the probability.\n",
    "\n",
    "Let's calculate it mathematically:\n",
    "\n",
    "The mean of the sample means (μ') is equal to the mean of the population, which is 170 cm.\n",
    "\n",
    "The standard deviation of the sample means (σ') is equal to the standard deviation of the population divided by the square root of the sample size:\n",
    "\n",
    "σ' = σ / √n\n",
    "\n",
    "where σ is the standard deviation of the population and n is the sample size.\n",
    "\n",
    "In this case, σ = 10 cm and n = 100, so:\n",
    "\n",
    "σ' = 10 / √100 = 10 / 10 = 1 cm\n",
    "\n",
    "Next, we calculate the z-score:\n",
    "\n",
    "Z = (X - μ') / σ'\n",
    "\n",
    "Z = (175 - 170) / 1 = 5\n",
    "\n",
    "Finally, we find the probability using the standard normal distribution:\n",
    "\n",
    "P(X > 175) = 1 - P(X ≤ 175) = 1 - P(Z ≤ 5)\n",
    "\n",
    "Using a standard normal distribution table or a statistical software, we can find the probability associated with the z-score of 5. P(Z > 5) ≈ 0\n",
    "\n",
    "Now let's calculate it using Python code:"
   ]
  },
  {
   "cell_type": "markdown",
   "id": "3db7adc4",
   "metadata": {},
   "source": [
    "**Answer - c**"
   ]
  },
  {
   "cell_type": "code",
   "execution_count": 9,
   "id": "f101e3d0",
   "metadata": {},
   "outputs": [
    {
     "name": "stdout",
     "output_type": "stream",
     "text": [
      "The z-score corresponding to a height of 185 cm is: 1.50\n"
     ]
    }
   ],
   "source": [
    "mean_height = 170\n",
    "std_dev = 10\n",
    "observed_height = 185\n",
    "\n",
    "# Calculate the z-score\n",
    "z = (observed_height - mean_height) / std_dev\n",
    "\n",
    "print(f\"The z-score corresponding to a height of 185 cm is: {z:.2f}\")\n"
   ]
  },
  {
   "cell_type": "markdown",
   "id": "fc26866a",
   "metadata": {},
   "source": [
    "To calculate the z-score corresponding to a height of 185 cm in a normal distribution, we need to use the formula:\n",
    "\n",
    "Z = (X - μ) / σ\n",
    "\n",
    "Where: Z is the z-score X is the observed value (height in this case) μ is the mean of the distribution (given as 170 cm) σ is the standard deviation of the distribution (given as 10 cm)\n",
    "\n",
    "Using the given values:\n",
    "\n",
    "Z = (185 - 170) / 10 Z = 15 / 10 Z = 1.5\n",
    "\n",
    "Therefore, the z-score corresponding to a height of 185 cm in the normal distribution is 1.5."
   ]
  },
  {
   "cell_type": "markdown",
   "id": "5a213dd6",
   "metadata": {},
   "source": [
    "**Answer - d**"
   ]
  },
  {
   "cell_type": "code",
   "execution_count": 11,
   "id": "0e2e0407",
   "metadata": {},
   "outputs": [
    {
     "name": "stdout",
     "output_type": "stream",
     "text": [
      "The approximate height corresponding to the threshold is: 153.55 cm\n"
     ]
    }
   ],
   "source": [
    "import scipy.stats as stats\n",
    "\n",
    "mean_height = 170\n",
    "std_dev = 10\n",
    "cumulative_prob = 0.05\n",
    "\n",
    "# Calculate the z-score corresponding to the cumulative probability\n",
    "z_threshold = stats.norm.ppf(cumulative_prob)\n",
    "\n",
    "# Calculate the height corresponding to the threshold\n",
    "height_threshold = z_threshold * std_dev + mean_height\n",
    "\n",
    "print(f\"The approximate height corresponding to the threshold is: {height_threshold:.2f} cm\")\n"
   ]
  },
  {
   "cell_type": "markdown",
   "id": "07b7e78b",
   "metadata": {},
   "source": [
    "To find the approximate height corresponding to the threshold below which 5% of the dataset falls, we need to use the inverse cumulative distribution function (also known as the quantile function) of the standard normal distribution.\n",
    "\n",
    "Mathematically, we want to find the value of X such that P(X < X_threshold) = 0.05.\n",
    "\n",
    "Let's calculate it mathematically:\n",
    "\n",
    "Using a standard normal distribution table or statistical software, we can find the z-score corresponding to a cumulative probability of 0.05. The z-score represents the number of standard deviations away from the mean.\n",
    "\n",
    "Let's denote the z-score as Z_threshold.\n",
    "\n",
    "Then, we can use the formula to calculate the approximate height:\n",
    "\n",
    "X_threshold = Z_threshold * σ + μ\n",
    "\n",
    "Where: X_threshold is the height corresponding to the threshold Z_threshold is the z-score corresponding to the cumulative probability of 0.05 σ is the standard deviation of the dataset (given as 10 cm) μ is the mean of the dataset (given as 170 cm) Substituting the values:\n",
    "\n",
    "X_threshold = -1.645 * 10 + 170 X_threshold = -16.45 + 170 X_threshold ≈ 153.55 cm\n",
    "\n",
    "Therefore, the approximate height corresponding to the threshold below which 5% of the dataset falls is approximately 153.55 cm.\n",
    "\n",
    "Now let's calculate it using Python code:"
   ]
  },
  {
   "cell_type": "markdown",
   "id": "efd78798",
   "metadata": {},
   "source": [
    "**Answer - e**"
   ]
  },
  {
   "cell_type": "code",
   "execution_count": 12,
   "id": "11afa67e",
   "metadata": {},
   "outputs": [
    {
     "name": "stdout",
     "output_type": "stream",
     "text": [
      "The coefficient of variation (CV) for the dataset is: 5.88%\n"
     ]
    }
   ],
   "source": [
    "mean_height = 170\n",
    "std_dev = 10\n",
    "\n",
    "# Calculate the coefficient of variation\n",
    "cv = (std_dev / mean_height) * 100\n",
    "\n",
    "print(f\"The coefficient of variation (CV) for the dataset is: {cv:.2f}%\")\n"
   ]
  },
  {
   "cell_type": "markdown",
   "id": "2574fb14",
   "metadata": {},
   "source": [
    " Mathematically, the coefficient of variation (CV) is calculated as:\n",
    "\n",
    "CV = (σ / μ) * 100\n",
    "\n",
    "Where: CV is the coefficient of variation σ is the standard deviation of the dataset μ is the mean of the dataset\n",
    "\n",
    "Using the given information, let's calculate the coefficient of variation:\n",
    "\n",
    "CV = (10 / 170) * 100 CV ≈ 5.88%\n",
    "\n",
    "Therefore, the coefficient of variation for the dataset is approximately 5.88%."
   ]
  },
  {
   "cell_type": "markdown",
   "id": "76d1768a",
   "metadata": {},
   "source": [
    "**Answer - f**"
   ]
  },
  {
   "cell_type": "code",
   "execution_count": 13,
   "id": "13c3038d",
   "metadata": {},
   "outputs": [
    {
     "name": "stdout",
     "output_type": "stream",
     "text": [
      "The skewness of the dataset is: 0.08\n"
     ]
    }
   ],
   "source": [
    "import scipy.stats as stats\n",
    "\n",
    "mean_height = 170\n",
    "std_dev = 10\n",
    "\n",
    "# Generate a normal distribution dataset based on the given mean and standard deviation\n",
    "data = stats.norm.rvs(loc=mean_height, scale=std_dev, size=1000)\n",
    "\n",
    "# Calculate the skewness\n",
    "skewness = stats.skew(data)\n",
    "\n",
    "print(f\"The skewness of the dataset is: {skewness:.2f}\")\n"
   ]
  },
  {
   "cell_type": "code",
   "execution_count": 14,
   "id": "5204d092",
   "metadata": {},
   "outputs": [
    {
     "data": {
      "image/png": "[encoded data removed]",
      "text/plain": [
       "<Figure size 432x288 with 1 Axes>"
      ]
     },
     "metadata": {
      "needs_background": "light"
     },
     "output_type": "display_data"
    }
   ],
   "source": [
    "import matplotlib.pyplot as plt\n",
    "import numpy as np\n",
    "import scipy.stats as stats\n",
    "\n",
    "mean_height = 170\n",
    "std_dev = 10\n",
    "\n",
    "# Generate a normal distribution dataset based on the given mean and standard deviation\n",
    "data = stats.norm.rvs(loc=mean_height, scale=std_dev, size=1000)\n",
    "\n",
    "# Calculate the skewness\n",
    "skewness = stats.skew(data)\n",
    "\n",
    "# Create a histogram plot\n",
    "plt.hist(data, bins=30, density=True, alpha=0.7,color='navy')\n",
    "\n",
    "# Add labels and title\n",
    "plt.xlabel('Height (cm)')\n",
    "plt.ylabel('Density')\n",
    "plt.title('Distribution of Heights')\n",
    "\n",
    "# Add skewness information to the plot\n",
    "plt.text(0.6, 0.9, f\"Skewness: {skewness:.2f}\", transform=plt.gca().transAxes)\n",
    "\n",
    "# Display the plot\n",
    "plt.show()\n"
   ]
  },
  {
   "cell_type": "code",
   "execution_count": null,
   "id": "a42a0627",
   "metadata": {},
   "outputs": [],
   "source": []
  }
 ],
 "metadata": {
  "kernelspec": {
   "display_name": "Python 3 (ipykernel)",
   "language": "python",
   "name": "python3"
  },
  "language_info": {
   "codemirror_mode": {
    "name": "ipython",
    "version": 3
   },
   "file_extension": ".py",
   "mimetype": "text/x-python",
   "name": "python",
   "nbconvert_exporter": "python",
   "pygments_lexer": "ipython3",
   "version": "3.9.12"
  }
 },
 "nbformat": 4,
 "nbformat_minor": 5
}
