{
 "cells": [
  {
   "cell_type": "markdown",
   "id": "5f238df8",
   "metadata": {},
   "source": [
    "**Q-5**. A certain city has two taxi companies: Company A has 80% of the taxis and\n",
    "Company B has 20% of the taxis. Company A's taxis have a 95% success rate for picking\n",
    "up passengers on time, while Company B's taxis have a 90% success rate. If a randomly\n",
    "selected taxi is late, what is the probability that it belongs to Company A?"
   ]
  },
  {
   "cell_type": "markdown",
   "id": "00e9a17d",
   "metadata": {},
   "source": [
    "**Answer**.To calculate the probability that a randomly selected taxi, which is late, belongs to Company A, we can use Bayes' theorem.\n",
    "\n",
    "A: Event that the taxi belongs to Company A B: Event that the taxi is late We are interested in finding P(A|B), the probability that the taxi belongs to Company A given that it is late.\n",
    "\n",
    "According to Bayes' theorem:\n",
    "\n",
    "P(A|B) = P(B|A) * P(A) / P(B)\n",
    "\n",
    "P(B|A) = Probability of the taxi being late given that it belongs to Company A = 1 - Success rate of Company A = 1 - 0.95 = 0.05 P(A) = Probability of selecting a taxi from Company A = 0.8 P(B) = Probability of the taxi being late = P(B|A) * P(A) + P(B|not A) * P(not A)\n",
    "\n",
    "P(B|not A) = Probability of the taxi being late given that it does not belong to Company A = 1 - Success rate of Company B = 1 - 0.9 = 0.1 P(not A) = Probability of selecting a taxi not from Company A = 0.2\n",
    "\n",
    "Now we can substitute these values into Bayes' theorem:\n",
    "\n",
    "P(A|B) = (0.05 * 0.8) / ((0.05 * 0.8) + (0.1 * 0.2))\n",
    "\n",
    "Simplifying the expression:\n",
    "\n",
    "P(A|B) = 0.04 / (0.04 + 0.02) = 0.04 / 0.06 = 0.6667\n",
    "\n",
    "Therefore, the probability that a randomly selected taxi, which is late, belongs to Company A is approximately 0.6667 or 66.67%.\n",
    "\n",
    "In Python, you can calculate and verify this probability using the following code:\n",
    "\n",
    "P_B_given_A = 0.05 P_A = 0.8 P_B_given_not_A = 0.1 P_not_A = 0.2\n",
    "\n",
    "P_B = (P_B_given_A * P_A) + (P_B_given_not_A * P_not_A)\n",
    "\n",
    "P_A_given_B = (P_B_given_A * P_A) / P_B\n",
    "\n",
    "print(\"Probability that the taxi belongs to Company A given it is late:\", P_A_given_B)"
   ]
  },
  {
   "cell_type": "code",
   "execution_count": null,
   "id": "8b2e376f",
   "metadata": {},
   "outputs": [],
   "source": []
  }
 ],
 "metadata": {
  "kernelspec": {
   "display_name": "Python 3 (ipykernel)",
   "language": "python",
   "name": "python3"
  },
  "language_info": {
   "codemirror_mode": {
    "name": "ipython",
    "version": 3
   },
   "file_extension": ".py",
   "mimetype": "text/x-python",
   "name": "python",
   "nbconvert_exporter": "python",
   "pygments_lexer": "ipython3",
   "version": "3.9.12"
  }
 },
 "nbformat": 4,
 "nbformat_minor": 5
}
