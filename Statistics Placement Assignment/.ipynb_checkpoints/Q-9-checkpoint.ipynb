{
 "cells": [
  {
   "cell_type": "markdown",
   "id": "e45f2579",
   "metadata": {},
   "source": [
    "Q-9. Given the score of students in multiple exams\n",
    "\n",
    "Test the hypothesis that the mean scores of all the students are the same. If not, name the\n",
    "student with the highest score.\n",
    "\n",
    "Name\texam 1\texam2\tfinal exam\n",
    "\n",
    "Karan\t85\t90\t92\n",
    "\n",
    "\n",
    "Deepa\t70\t80\t85\n",
    "\n",
    "karthik\t90\t85\t88\n",
    "\n",
    "Chandan\t75\t70\t75\n",
    "\n",
    "Jeevan\t95\t92\t96\n"
   ]
  },
  {
   "cell_type": "code",
   "execution_count": 14,
   "id": "9c11e9af",
   "metadata": {},
   "outputs": [
    {
     "name": "stdout",
     "output_type": "stream",
     "text": [
      "One-way ANOVA:\n",
      "F-statistic: 0.3236947791164659\n",
      "p-value: 0.7295954253321559\n",
      "The mean scores of the students are the same.\n"
     ]
    }
   ],
   "source": [
    "import pandas as pd\n",
    "import numpy as np\n",
    "import scipy.stats as stats\n",
    "\n",
    "data = pd.DataFrame({\n",
    "    'Name': ['Karan', 'Deepa', 'Karthik', 'Chandan', 'Jeevan'],\n",
    "    'Exam1': [85, 70, 90, 75, 95],\n",
    "    'Exam2': [90, 80, 85, 70, 92],\n",
    "    'Exam3': [92, 85, 88, 75, 96]\n",
    "})\n",
    "\n",
    "# Perform one-way ANOVA\n",
    "statistic, p_value = stats.f_oneway(data['Exam1'], data['Exam2'], data['Exam3'])\n",
    "\n",
    "# Print results\n",
    "print(\"One-way ANOVA:\")\n",
    "print(\"F-statistic:\", statistic)\n",
    "print(\"p-value:\", p_value)\n",
    "\n",
    "if p_value < 0.05:\n",
    "    print(\"The mean scores of the students are not the same.\")\n",
    "    highest_score_student = data['Name'][np.argmax(data[['Exam1', 'Exam2', 'Exam3']].values)]\n",
    "    print(\"The student with the highest score is\", highest_score_student)\n",
    "else:\n",
    "    print(\"The mean scores of the students are the same.\")\n"
   ]
  },
  {
   "cell_type": "code",
   "execution_count": null,
   "id": "5d4aa8e5",
   "metadata": {},
   "outputs": [],
   "source": []
  }
 ],
 "metadata": {
  "kernelspec": {
   "display_name": "Python 3 (ipykernel)",
   "language": "python",
   "name": "python3"
  },
  "language_info": {
   "codemirror_mode": {
    "name": "ipython",
    "version": 3
   },
   "file_extension": ".py",
   "mimetype": "text/x-python",
   "name": "python",
   "nbconvert_exporter": "python",
   "pygments_lexer": "ipython3",
   "version": "3.9.12"
  }
 },
 "nbformat": 4,
 "nbformat_minor": 5
}
