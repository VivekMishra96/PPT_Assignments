{
 "cells": [
  {
   "cell_type": "markdown",
   "id": "eb182679",
   "metadata": {},
   "source": [
    "**Q-10**. A factory produces light bulbs, and the probability of a bulb being defective is 0.05. The factory produces a large batch of 500 light bulbs.\n",
    "\n",
    "a. What is the probability that exactly 20 bulbs are defective?\n",
    "\n",
    "b. What is the probability that at least 10 bulbs are defective?\n",
    "\n",
    "c. What is the probability that at max 15 bulbs are defective?\n",
    "\n",
    "d. On average, how many defective bulbs would you expect in a batch of 500?"
   ]
  },
  {
   "cell_type": "code",
   "execution_count": 7,
   "id": "4bca4a5f",
   "metadata": {},
   "outputs": [
    {
     "name": "stdout",
     "output_type": "stream",
     "text": [
      "Probability of exactly 20 bulbs being defective: 0.051616192536641056\n",
      "Probability of at least 10 bulbs being defective: 0.9998316463654902\n",
      "Probability of at most 15 bulbs being defective: 0.01985837716300623\n",
      "Expected number of defective bulbs in a batch of 500: 25.0\n"
     ]
    }
   ],
   "source": [
    "import scipy.stats as stats\n",
    "\n",
    "p = 0.05 # Probability of a bulb being defective\n",
    "n = 500 # Total number of bulbs in the batch\n",
    "\n",
    "# a. Probability of exactly 20 bulbs being defective\n",
    "prob_20_defective = stats.binom.pmf(20, n, p)\n",
    "print(\"Probability of exactly 20 bulbs being defective:\", prob_20_defective)\n",
    "\n",
    "# b. Probability of at least 10 bulbs being defective\n",
    "prob_at_least_10_defective = 1 - stats.binom.cdf(9, n, p)\n",
    "print(\"Probability of at least 10 bulbs being defective:\", prob_at_least_10_defective)\n",
    "\n",
    "# c. Probability of at most 15 bulbs being defective\n",
    "prob_max_15_defective = stats.binom.cdf(15, n, p)\n",
    "print(\"Probability of at most 15 bulbs being defective:\", prob_max_15_defective)\n",
    "\n",
    "# d. Expected number of defective bulbs in a batch of 500\n",
    "expected_defective_bulbs = n * p\n",
    "print(\"Expected number of defective bulbs in a batch of 500:\", expected_defective_bulbs)\n"
   ]
  },
  {
   "cell_type": "code",
   "execution_count": null,
   "id": "a79aab62",
   "metadata": {},
   "outputs": [],
   "source": []
  }
 ],
 "metadata": {
  "kernelspec": {
   "display_name": "Python 3 (ipykernel)",
   "language": "python",
   "name": "python3"
  },
  "language_info": {
   "codemirror_mode": {
    "name": "ipython",
    "version": 3
   },
   "file_extension": ".py",
   "mimetype": "text/x-python",
   "name": "python",
   "nbconvert_exporter": "python",
   "pygments_lexer": "ipython3",
   "version": "3.9.12"
  }
 },
 "nbformat": 4,
 "nbformat_minor": 5
}
