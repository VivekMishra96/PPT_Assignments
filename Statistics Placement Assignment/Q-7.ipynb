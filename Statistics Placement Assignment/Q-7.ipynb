{
 "cells": [
  {
   "cell_type": "markdown",
   "id": "eefa36d8",
   "metadata": {},
   "source": [
    "**Q-7**. The equations of two lines of regression, obtained in a correlation analysis between variables X and Y are as follows:\n",
    "\n",
    "and . 2X + 3 − 8 = 0 2Y + X − 5 = 0 The variance of X = 4 Find the a. Variance of Y b. Coefficient of determination of C and Y c. Standard error of estimate of X on Y and of Y on X."
   ]
  },
  {
   "cell_type": "code",
   "execution_count": 1,
   "id": "7948f690",
   "metadata": {},
   "outputs": [
    {
     "name": "stdout",
     "output_type": "stream",
     "text": [
      "Variance of Y: 3.2\n"
     ]
    }
   ],
   "source": [
    "import numpy as np\n",
    "\n",
    "# Given equations of regression lines\n",
    "eq1 = lambda x: 2*x + 3 - 8\n",
    "eq2 = lambda y: 2*y + 1 - 5\n",
    "\n",
    "#1 Variance of X\n",
    "var_x = 4\n",
    "\n",
    "# a. Variance of Y\n",
    "var_y = (var_x * (2**2)) / (2**2 + 1**2)\n",
    "print(\"Variance of Y:\", var_y)"
   ]
  },
  {
   "cell_type": "code",
   "execution_count": 2,
   "id": "00f6aeb9",
   "metadata": {},
   "outputs": [
    {
     "name": "stdout",
     "output_type": "stream",
     "text": [
      "Coefficient of determination (R-squared): 0.8\n"
     ]
    }
   ],
   "source": [
    "#b. Coefficient of determination of C and Y\n",
    "r_squared = var_y / var_x\n",
    "print(\"Coefficient of determination (R-squared):\", r_squared)"
   ]
  },
  {
   "cell_type": "code",
   "execution_count": 3,
   "id": "f0c16e99",
   "metadata": {},
   "outputs": [
    {
     "name": "stdout",
     "output_type": "stream",
     "text": [
      "Standard error of estimate of X on Y: 0.8944271909999157\n",
      "Standard error of estimate of Y on X: 0.7999999999999999\n"
     ]
    }
   ],
   "source": [
    "#c. Standard error of estimate of X on Y and of Y on X.\n",
    "se_x_on_y = np.sqrt(var_x * (1 - r_squared))\n",
    "se_y_on_x = np.sqrt(var_y * (1 - r_squared))\n",
    "print(\"Standard error of estimate of X on Y:\", se_x_on_y)\n",
    "print(\"Standard error of estimate of Y on X:\", se_y_on_x)"
   ]
  },
  {
   "cell_type": "code",
   "execution_count": null,
   "id": "47fe0bc7",
   "metadata": {},
   "outputs": [],
   "source": []
  }
 ],
 "metadata": {
  "kernelspec": {
   "display_name": "Python 3 (ipykernel)",
   "language": "python",
   "name": "python3"
  },
  "language_info": {
   "codemirror_mode": {
    "name": "ipython",
    "version": 3
   },
   "file_extension": ".py",
   "mimetype": "text/x-python",
   "name": "python",
   "nbconvert_exporter": "python",
   "pygments_lexer": "ipython3",
   "version": "3.9.12"
  }
 },
 "nbformat": 4,
 "nbformat_minor": 5
}
