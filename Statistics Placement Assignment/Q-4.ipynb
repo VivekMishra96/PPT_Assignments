{
 "cells": [
  {
   "cell_type": "markdown",
   "id": "d24d45ee",
   "metadata": {},
   "source": [
    "**Q-4**. A group of 20 friends decide to play a game in which they each write a number between 1 and 20 on a slip of paper and put it into a hat. They then draw one slip of paper at random. What is the probability that the number on the slip of paper is a perfect square (i.e., 1, 4, 9, or 16)? To calculate the probability that the number drawn from the hat is a perfect square (i.e., 1, 4, 9, or 16) out of the numbers 1 to 20, we need to determine the number of favorable outcomes (perfect squares) and the total number of possible outcomes.\n",
    "\n",
    "Number of favorable outcomes: 4 (1, 4, 9, 16) Total number of possible outcomes: 20\n",
    "\n",
    "The probability is calculated by dividing the number of favorable outcomes by the total number of possible outcomes:\n",
    "\n",
    "Probability = Number of favorable outcomes / Total number of possible outcomes\n",
    "\n",
    "Probability = 4 / 20\n",
    "\n",
    "Simplifying the fraction:\n",
    "\n",
    "Probability = 1 / 5\n",
    "\n",
    "Therefore, the probability that the number drawn from the hat is a perfect square is 1/5 or 0.2.\n",
    "\n",
    "In Python, you can calculate and verify this probability using the following code:"
   ]
  },
  {
   "cell_type": "code",
   "execution_count": 2,
   "id": "a8222e2a",
   "metadata": {},
   "outputs": [
    {
     "name": "stdout",
     "output_type": "stream",
     "text": [
      "Probability: 0.2\n"
     ]
    }
   ],
   "source": [
    "favorable_outcomes = 4\n",
    "total_outcomes = 20\n",
    "\n",
    "probability = favorable_outcomes / total_outcomes\n",
    "\n",
    "print(\"Probability:\", probability)\n"
   ]
  },
  {
   "cell_type": "code",
   "execution_count": null,
   "id": "83336da5",
   "metadata": {},
   "outputs": [],
   "source": []
  }
 ],
 "metadata": {
  "kernelspec": {
   "display_name": "Python 3 (ipykernel)",
   "language": "python",
   "name": "python3"
  },
  "language_info": {
   "codemirror_mode": {
    "name": "ipython",
    "version": 3
   },
   "file_extension": ".py",
   "mimetype": "text/x-python",
   "name": "python",
   "nbconvert_exporter": "python",
   "pygments_lexer": "ipython3",
   "version": "3.9.12"
  }
 },
 "nbformat": 4,
 "nbformat_minor": 5
}
