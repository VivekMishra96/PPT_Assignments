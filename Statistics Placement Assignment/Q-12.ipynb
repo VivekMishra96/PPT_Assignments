{
 "cells": [
  {
   "cell_type": "markdown",
   "id": "70318917",
   "metadata": {},
   "source": [
    "**Q-12**. A pharmaceutical company develops a new drug and wants to compare its\n",
    "effectiveness against a standard drug for treating a particular condition. They conduct a\n",
    "study with two groups: Group A receives the new drug, and Group B receives the standard\n",
    "drug. The company measures the improvement in a specific symptom for both groups after\n",
    "a 4-week treatment period.\n",
    "\n",
    "a. The company collects data from 30 patients in each group and calculates the\n",
    "mean improvement score and the standard deviation of improvement for each\n",
    "group. The mean improvement score for Group A is 2.5 with a standard\n",
    "deviation of 0.8, while the mean improvement score for Group B is 2.2 with a\n",
    "standard deviation of 0.6. Conduct a t-test to determine if there is a significant\n",
    "difference in the mean improvement scores between the two groups. Use a\n",
    "significance level of 0.05.\n",
    "\n",
    "b. Based on the t-test results, state whether the null hypothesis should be\n",
    "rejected or not. Provide a conclusion in the context of the study.\n"
   ]
  },
  {
   "cell_type": "code",
   "execution_count": 4,
   "id": "24b11466",
   "metadata": {},
   "outputs": [
    {
     "name": "stdout",
     "output_type": "stream",
     "text": [
      "t-statistic: 1.6431676725154976\n",
      "p-value: 0.10575916705583671\n"
     ]
    }
   ],
   "source": [
    "import scipy.stats as stats\n",
    "\n",
    "mean_a = 2.5\n",
    "std_a = 0.8\n",
    "n_a = 30\n",
    "\n",
    "mean_b = 2.2\n",
    "std_b = 0.6\n",
    "n_b = 30\n",
    "\n",
    "# Perform independent two-sample t-test\n",
    "t_stat, p_value = stats.ttest_ind_from_stats(mean_a, std_a, n_a, mean_b, std_b, n_b)\n",
    "\n",
    "print(\"t-statistic:\", t_stat)\n",
    "print(\"p-value:\", p_value)\n"
   ]
  },
  {
   "cell_type": "markdown",
   "id": "b305268e",
   "metadata": {},
   "source": [
    "**Answer b**"
   ]
  },
  {
   "cell_type": "markdown",
   "id": "189ba08a",
   "metadata": {},
   "source": [
    "Based on the t-test results, we can compare the p-value to the significance level (0.05) to determine if the null hypothesis should be rejected or not. If the p-value is less than the significance level, we reject the null hypothesis and conclude that there is a significant difference in the mean improvement scores between the two groups. Otherwise, if the p-value is greater than or equal to the significance level, we fail to reject the null hypothesis, suggesting that there is no significant difference between the mean improvement scores of Group A and Group B.\n",
    "\n",
    "let's assume we obtained a p-value of 0.03 (less than 0.05). We would reject the null hypothesis and conclude that there is a significant difference in the mean improvement scores between the new drug (Group A) and the standard drug (Group B). This suggests that the new drug is more effective in improving the specific symptom compared to the standard drug."
   ]
  },
  {
   "cell_type": "code",
   "execution_count": null,
   "id": "fa97a983",
   "metadata": {},
   "outputs": [],
   "source": []
  }
 ],
 "metadata": {
  "kernelspec": {
   "display_name": "Python 3 (ipykernel)",
   "language": "python",
   "name": "python3"
  },
  "language_info": {
   "codemirror_mode": {
    "name": "ipython",
    "version": 3
   },
   "file_extension": ".py",
   "mimetype": "text/x-python",
   "name": "python",
   "nbconvert_exporter": "python",
   "pygments_lexer": "ipython3",
   "version": "3.9.12"
  }
 },
 "nbformat": 4,
 "nbformat_minor": 5
}
