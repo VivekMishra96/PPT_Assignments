{
 "cells": [
  {
   "cell_type": "markdown",
   "id": "627f6a3e",
   "metadata": {},
   "source": [
    "Question 1: -\n",
    "\n",
    "Write a program that takes a string as input, and counts the frequency of each word in the string, there might be repeated characters in the string. Your task is to find the highest frequency and returns the length of the highest-frequency word.\n",
    "\n",
    "Note - You have to write at least 2 additional test cases in which your program will run successfully and provide an explanation for the same.\n",
    "\n",
    "Example input - string = “write write write all the number from from from 1 to 100”\n",
    "\n",
    "Example output - 5\n",
    "\n",
    "Explaination - From the given string we can note that the most frequent words are “write” and “from” and the maximum value of both the values is “write” and its corresponding length is 5\n",
    "\n"
   ]
  },
  {
   "cell_type": "code",
   "execution_count": 11,
   "id": "2e5db7ad",
   "metadata": {},
   "outputs": [
    {
     "name": "stdout",
     "output_type": "stream",
     "text": [
      "9\n",
      "5\n"
     ]
    }
   ],
   "source": [
    "def find_highest_frequency_word_length(string):\n",
    "    words = string.split()\n",
    "\n",
    "    word_freq = {}\n",
    "\n",
    "    for word in words:\n",
    "        word_freq[word] = word_freq.get(word, 0) + 1\n",
    "\n",
    "    max_freq = 0\n",
    "    max_length = 0\n",
    "    for word, freq in word_freq.items():\n",
    "        if freq > max_freq or (freq == max_freq and len(word) > max_length):\n",
    "            max_freq = freq\n",
    "            max_length = len(word)\n",
    "\n",
    "    return max_length\n",
    "\n",
    "#Example test case\n",
    "\n",
    "string = \"Bhupendra Rajput From FSDS Batch Bhupendra Rajput\"\n",
    "result = find_highest_frequency_word_length(string)\n",
    "print(result)\n",
    "\n",
    "# Example output - 5\n",
    "\n",
    "\n",
    "string = \"hello hello hello hello hello\"\n",
    "result = find_highest_frequency_word_length(string)\n",
    "print(result)\n",
    "\n",
    "\n",
    "\n"
   ]
  }
 ],
 "metadata": {
  "kernelspec": {
   "display_name": "Python 3 (ipykernel)",
   "language": "python",
   "name": "python3"
  },
  "language_info": {
   "codemirror_mode": {
    "name": "ipython",
    "version": 3
   },
   "file_extension": ".py",
   "mimetype": "text/x-python",
   "name": "python",
   "nbconvert_exporter": "python",
   "pygments_lexer": "ipython3",
   "version": "3.9.12"
  }
 },
 "nbformat": 4,
 "nbformat_minor": 5
}
