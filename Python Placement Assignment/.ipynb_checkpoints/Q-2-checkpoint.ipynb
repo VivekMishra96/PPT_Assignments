{
 "cells": [
  {
   "cell_type": "markdown",
   "id": "09e2cf22",
   "metadata": {},
   "source": [
    "Question 2: -\n",
    "\n",
    "Consider a string to be valid if all characters of the string appear the same number of times. It is also valid if he can remove just one character at the index in the string, and the remaining characters will occur the same number of times. Given a string, determine if it is valid. If so, return YES , otherwise return NO .\n",
    "\n",
    "Note - You have to write at least 2 additional test cases in which your program will run successfully and provide an explanation for the same.\n",
    "\n",
    "Example input 1 - s = “abc”. This is a valid string because frequencies are { “a”: 1, “b”: 1, “c”: 1 }\n",
    "\n",
    "Example output 1- YES\n",
    "\n",
    "Example input 2 - s “abcc”. This string is not valid as we can remove only 1 occurrence of “c”. That leaves character frequencies of { “a”: 1, “b”: 1 , “c”: 2 }\n",
    "\n",
    "Example output 2 - NO"
   ]
  },
  {
   "cell_type": "code",
   "execution_count": 1,
   "id": "da73b595",
   "metadata": {},
   "outputs": [
    {
     "name": "stdout",
     "output_type": "stream",
     "text": [
      "YES\n",
      "NO\n",
      "NO\n",
      "YES\n"
     ]
    }
   ],
   "source": [
    "def is_valid(s):\n",
    "    freq = {}\n",
    "    for char in s:\n",
    "        if char in freq:\n",
    "            freq[char] += 1\n",
    "        else:\n",
    "            freq[char] = 1\n",
    "    values = list(freq.values())\n",
    "    values.sort()\n",
    "    unique_values = set(values)\n",
    "    \n",
    "    if len(unique_values) == 1:\n",
    "        return \"YES\"\n",
    "    elif len(unique_values) == 2:\n",
    "        if values.count(values[0]) == 1 and values[0] == 1:\n",
    "            return \"YES\"\n",
    "        elif values.count(values[-1]) == 1 and values[-2] == values[-1] - 1:\n",
    "            return \"NO\"  \n",
    "    \n",
    "    return \"NO\"\n",
    "\n",
    "\n",
    "s = \"abc\"\n",
    "print(is_valid(s))  \n",
    "\n",
    "s = \"abcc\"\n",
    "print(is_valid(s))  \n",
    "\n",
    "\n",
    "s = \"aabbbcc\"\n",
    "print(is_valid(s))  \n",
    "\n",
    "\n",
    "s = \"aabbcc\"\n",
    "print(is_valid(s))  "
   ]
  },
  {
   "cell_type": "code",
   "execution_count": null,
   "id": "76eeb825",
   "metadata": {},
   "outputs": [],
   "source": []
  }
 ],
 "metadata": {
  "kernelspec": {
   "display_name": "Python 3 (ipykernel)",
   "language": "python",
   "name": "python3"
  },
  "language_info": {
   "codemirror_mode": {
    "name": "ipython",
    "version": 3
   },
   "file_extension": ".py",
   "mimetype": "text/x-python",
   "name": "python",
   "nbconvert_exporter": "python",
   "pygments_lexer": "ipython3",
   "version": "3.9.12"
  }
 },
 "nbformat": 4,
 "nbformat_minor": 5
}
